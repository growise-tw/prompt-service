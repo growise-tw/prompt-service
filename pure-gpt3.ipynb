{
 "cells": [
  {
   "cell_type": "code",
   "execution_count": null,
   "metadata": {},
   "outputs": [],
   "source": [
    "from crawler.main import crawler\n",
    "import openai\n",
    "\n",
    "openai.api_key = ''\n",
    "model_engine = \"davinci\"\n",
    "\n",
    "#get data\n",
    "c=crawler()\n",
    "c.setting()\n",
    "s=''\n",
    "for i in c.title:\n",
    "    s = s + i + \" \"\n",
    "s = s + ' '+ \"把這些標題整理成一份摘要\"\n",
    "\n",
    "print()\n",
    "print()\n",
    "\n",
    "completion = openai.Completion.create(engine = model_engine, \n",
    "                                      prompt = s, \n",
    "                                      max_tokens = 1024,\n",
    "                                      temperature = 0.8)\n",
    "\n",
    "print(completion.choices[0].text)"
   ]
  }
 ],
 "metadata": {
  "language_info": {
   "name": "python"
  },
  "orig_nbformat": 4
 },
 "nbformat": 4,
 "nbformat_minor": 2
}
